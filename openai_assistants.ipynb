{
  "nbformat": 4,
  "nbformat_minor": 0,
  "metadata": {
    "colab": {
      "provenance": [],
      "authorship_tag": "ABX9TyN3en0klIBprmUj+xh32CLe",
      "include_colab_link": true
    },
    "kernelspec": {
      "name": "python3",
      "display_name": "Python 3"
    },
    "language_info": {
      "name": "python"
    }
  },
  "cells": [
    {
      "cell_type": "markdown",
      "metadata": {
        "id": "view-in-github",
        "colab_type": "text"
      },
      "source": [
        "<a href=\"https://colab.research.google.com/github/rajeevradnair/openai/blob/main/openai_assistants.ipynb\" target=\"_parent\"><img src=\"https://colab.research.google.com/assets/colab-badge.svg\" alt=\"Open In Colab\"/></a>"
      ]
    },
    {
      "cell_type": "code",
      "source": [
        "pip install openai==1.55.3"
      ],
      "metadata": {
        "colab": {
          "base_uri": "https://localhost:8080/"
        },
        "id": "RTEjboaQTihs",
        "outputId": "fec0fa0f-8c8d-4785-f69f-83c9c7d4b609"
      },
      "execution_count": 2,
      "outputs": [
        {
          "output_type": "stream",
          "name": "stdout",
          "text": [
            "Collecting openai==1.55.3\n",
            "  Downloading openai-1.55.3-py3-none-any.whl.metadata (24 kB)\n",
            "Requirement already satisfied: anyio<5,>=3.5.0 in /usr/local/lib/python3.10/dist-packages (from openai==1.55.3) (3.7.1)\n",
            "Requirement already satisfied: distro<2,>=1.7.0 in /usr/local/lib/python3.10/dist-packages (from openai==1.55.3) (1.9.0)\n",
            "Requirement already satisfied: httpx<1,>=0.23.0 in /usr/local/lib/python3.10/dist-packages (from openai==1.55.3) (0.28.0)\n",
            "Requirement already satisfied: jiter<1,>=0.4.0 in /usr/local/lib/python3.10/dist-packages (from openai==1.55.3) (0.8.0)\n",
            "Requirement already satisfied: pydantic<3,>=1.9.0 in /usr/local/lib/python3.10/dist-packages (from openai==1.55.3) (2.10.3)\n",
            "Requirement already satisfied: sniffio in /usr/local/lib/python3.10/dist-packages (from openai==1.55.3) (1.3.1)\n",
            "Requirement already satisfied: tqdm>4 in /usr/local/lib/python3.10/dist-packages (from openai==1.55.3) (4.66.6)\n",
            "Requirement already satisfied: typing-extensions<5,>=4.11 in /usr/local/lib/python3.10/dist-packages (from openai==1.55.3) (4.12.2)\n",
            "Requirement already satisfied: idna>=2.8 in /usr/local/lib/python3.10/dist-packages (from anyio<5,>=3.5.0->openai==1.55.3) (3.10)\n",
            "Requirement already satisfied: exceptiongroup in /usr/local/lib/python3.10/dist-packages (from anyio<5,>=3.5.0->openai==1.55.3) (1.2.2)\n",
            "Requirement already satisfied: certifi in /usr/local/lib/python3.10/dist-packages (from httpx<1,>=0.23.0->openai==1.55.3) (2024.8.30)\n",
            "Requirement already satisfied: httpcore==1.* in /usr/local/lib/python3.10/dist-packages (from httpx<1,>=0.23.0->openai==1.55.3) (1.0.7)\n",
            "Requirement already satisfied: h11<0.15,>=0.13 in /usr/local/lib/python3.10/dist-packages (from httpcore==1.*->httpx<1,>=0.23.0->openai==1.55.3) (0.14.0)\n",
            "Requirement already satisfied: annotated-types>=0.6.0 in /usr/local/lib/python3.10/dist-packages (from pydantic<3,>=1.9.0->openai==1.55.3) (0.7.0)\n",
            "Requirement already satisfied: pydantic-core==2.27.1 in /usr/local/lib/python3.10/dist-packages (from pydantic<3,>=1.9.0->openai==1.55.3) (2.27.1)\n",
            "Downloading openai-1.55.3-py3-none-any.whl (389 kB)\n",
            "\u001b[2K   \u001b[90m━━━━━━━━━━━━━━━━━━━━━━━━━━━━━━━━━━━━━━━━\u001b[0m \u001b[32m389.6/389.6 kB\u001b[0m \u001b[31m6.3 MB/s\u001b[0m eta \u001b[36m0:00:00\u001b[0m\n",
            "\u001b[?25hInstalling collected packages: openai\n",
            "  Attempting uninstall: openai\n",
            "    Found existing installation: openai 1.54.5\n",
            "    Uninstalling openai-1.54.5:\n",
            "      Successfully uninstalled openai-1.54.5\n",
            "Successfully installed openai-1.55.3\n"
          ]
        }
      ]
    },
    {
      "cell_type": "code",
      "source": [
        "pip install httpx==0.23.0\n"
      ],
      "metadata": {
        "colab": {
          "base_uri": "https://localhost:8080/",
          "height": 740
        },
        "id": "G7Ox2PnFTnE7",
        "outputId": "f1c46dc1-1a64-4d13-b9ba-3bc86f4db7b2"
      },
      "execution_count": 3,
      "outputs": [
        {
          "output_type": "stream",
          "name": "stdout",
          "text": [
            "Collecting httpx==0.23.0\n",
            "  Downloading httpx-0.23.0-py3-none-any.whl.metadata (52 kB)\n",
            "\u001b[?25l     \u001b[90m━━━━━━━━━━━━━━━━━━━━━━━━━━━━━━━━━━━━━━━━\u001b[0m \u001b[32m0.0/52.0 kB\u001b[0m \u001b[31m?\u001b[0m eta \u001b[36m-:--:--\u001b[0m\r\u001b[2K     \u001b[90m━━━━━━━━━━━━━━━━━━━━━━━━━━━━━━━━━━━━━━━━\u001b[0m \u001b[32m52.0/52.0 kB\u001b[0m \u001b[31m3.1 MB/s\u001b[0m eta \u001b[36m0:00:00\u001b[0m\n",
            "\u001b[?25hRequirement already satisfied: certifi in /usr/local/lib/python3.10/dist-packages (from httpx==0.23.0) (2024.8.30)\n",
            "Requirement already satisfied: sniffio in /usr/local/lib/python3.10/dist-packages (from httpx==0.23.0) (1.3.1)\n",
            "Collecting rfc3986<2,>=1.3 (from rfc3986[idna2008]<2,>=1.3->httpx==0.23.0)\n",
            "  Downloading rfc3986-1.5.0-py2.py3-none-any.whl.metadata (6.5 kB)\n",
            "Collecting httpcore<0.16.0,>=0.15.0 (from httpx==0.23.0)\n",
            "  Downloading httpcore-0.15.0-py3-none-any.whl.metadata (15 kB)\n",
            "Collecting h11<0.13,>=0.11 (from httpcore<0.16.0,>=0.15.0->httpx==0.23.0)\n",
            "  Downloading h11-0.12.0-py3-none-any.whl.metadata (8.1 kB)\n",
            "Requirement already satisfied: anyio==3.* in /usr/local/lib/python3.10/dist-packages (from httpcore<0.16.0,>=0.15.0->httpx==0.23.0) (3.7.1)\n",
            "Requirement already satisfied: idna>=2.8 in /usr/local/lib/python3.10/dist-packages (from anyio==3.*->httpcore<0.16.0,>=0.15.0->httpx==0.23.0) (3.10)\n",
            "Requirement already satisfied: exceptiongroup in /usr/local/lib/python3.10/dist-packages (from anyio==3.*->httpcore<0.16.0,>=0.15.0->httpx==0.23.0) (1.2.2)\n",
            "Downloading httpx-0.23.0-py3-none-any.whl (84 kB)\n",
            "\u001b[2K   \u001b[90m━━━━━━━━━━━━━━━━━━━━━━━━━━━━━━━━━━━━━━━━\u001b[0m \u001b[32m84.8/84.8 kB\u001b[0m \u001b[31m5.0 MB/s\u001b[0m eta \u001b[36m0:00:00\u001b[0m\n",
            "\u001b[?25hDownloading httpcore-0.15.0-py3-none-any.whl (68 kB)\n",
            "\u001b[2K   \u001b[90m━━━━━━━━━━━━━━━━━━━━━━━━━━━━━━━━━━━━━━━━\u001b[0m \u001b[32m68.4/68.4 kB\u001b[0m \u001b[31m4.5 MB/s\u001b[0m eta \u001b[36m0:00:00\u001b[0m\n",
            "\u001b[?25hDownloading rfc3986-1.5.0-py2.py3-none-any.whl (31 kB)\n",
            "Downloading h11-0.12.0-py3-none-any.whl (54 kB)\n",
            "\u001b[2K   \u001b[90m━━━━━━━━━━━━━━━━━━━━━━━━━━━━━━━━━━━━━━━━\u001b[0m \u001b[32m54.9/54.9 kB\u001b[0m \u001b[31m2.6 MB/s\u001b[0m eta \u001b[36m0:00:00\u001b[0m\n",
            "\u001b[?25hInstalling collected packages: rfc3986, h11, httpcore, httpx\n",
            "  Attempting uninstall: h11\n",
            "    Found existing installation: h11 0.14.0\n",
            "    Uninstalling h11-0.14.0:\n",
            "      Successfully uninstalled h11-0.14.0\n",
            "  Attempting uninstall: httpcore\n",
            "    Found existing installation: httpcore 1.0.7\n",
            "    Uninstalling httpcore-1.0.7:\n",
            "      Successfully uninstalled httpcore-1.0.7\n",
            "  Attempting uninstall: httpx\n",
            "    Found existing installation: httpx 0.28.0\n",
            "    Uninstalling httpx-0.28.0:\n",
            "      Successfully uninstalled httpx-0.28.0\n",
            "Successfully installed h11-0.12.0 httpcore-0.15.0 httpx-0.23.0 rfc3986-1.5.0\n"
          ]
        },
        {
          "output_type": "display_data",
          "data": {
            "application/vnd.colab-display-data+json": {
              "pip_warning": {
                "packages": [
                  "httpx"
                ]
              },
              "id": "e5c41643f2bb466e81d08f52c0584aba"
            }
          },
          "metadata": {}
        }
      ]
    },
    {
      "cell_type": "code",
      "execution_count": 53,
      "metadata": {
        "id": "0no1Qe8tS4ih"
      },
      "outputs": [],
      "source": [
        "from openai import OpenAI\n",
        "from google.colab import userdata\n",
        "\n",
        "client=OpenAI(api_key=userdata.get('OPENAI_API_KEY'))"
      ]
    },
    {
      "cell_type": "code",
      "source": [
        "#tools = code interpreter, function calling, knowledge retreival from online, knowledge retrieval from uploaded files\n",
        "\n",
        "sysPrompt=\"\"\"\n",
        "    you are a personal trainer for vegetarians\n",
        "\"\"\"\n",
        "\n",
        "# Create an assistant\n",
        "asstVegetarianPersonalTrainer=client.beta.assistants.create(\n",
        "    model=\"gpt-4o\",\n",
        "    name=\"asstVegetarianPersonalTrainer\",\n",
        "    instructions=sysPrompt\n",
        ")\n",
        "asstVegetarianPersonalTrainer.id\n"
      ],
      "metadata": {
        "colab": {
          "base_uri": "https://localhost:8080/",
          "height": 35
        },
        "id": "D0NLO0ENTtvg",
        "outputId": "be263306-c647-40c5-c019-a01fb34c6a60"
      },
      "execution_count": 54,
      "outputs": [
        {
          "output_type": "execute_result",
          "data": {
            "text/plain": [
              "'asst_dMdfjSaLxOvznqys9C4zUUSX'"
            ],
            "application/vnd.google.colaboratory.intrinsic+json": {
              "type": "string"
            }
          },
          "metadata": {},
          "execution_count": 54
        }
      ]
    },
    {
      "cell_type": "code",
      "source": [
        "# Create a thread\n",
        "threadVegetarianPersonalTrainer=client.beta.threads.create()"
      ],
      "metadata": {
        "id": "GVZ26PDmngWi"
      },
      "execution_count": 55,
      "outputs": []
    },
    {
      "cell_type": "code",
      "source": [
        "asstVegetarianPersonalTrainer.id, threadVegetarianPersonalTrainer.id"
      ],
      "metadata": {
        "colab": {
          "base_uri": "https://localhost:8080/"
        },
        "id": "qC2B49zmnqHh",
        "outputId": "95e67231-4b72-4c25-e297-14b71b57cd43"
      },
      "execution_count": 56,
      "outputs": [
        {
          "output_type": "execute_result",
          "data": {
            "text/plain": [
              "('asst_dMdfjSaLxOvznqys9C4zUUSX', 'thread_In2XqRNd885o11I07iphna25')"
            ]
          },
          "metadata": {},
          "execution_count": 56
        }
      ]
    },
    {
      "cell_type": "code",
      "source": [
        "# Create a message attached to the thread\n",
        "message00=client.beta.threads.messages.create(\n",
        "    role=\"user\",\n",
        "    thread_id=threadVegetarianPersonalTrainer.id,\n",
        "    content=\"what is the best exercise to build chest and arms?\"\n",
        ")\n",
        "message00"
      ],
      "metadata": {
        "colab": {
          "base_uri": "https://localhost:8080/"
        },
        "id": "bXsVTFN7pYPO",
        "outputId": "25d5eaf2-b743-4672-abb1-e6ca43f3a5ca"
      },
      "execution_count": 57,
      "outputs": [
        {
          "output_type": "execute_result",
          "data": {
            "text/plain": [
              "Message(id='msg_dbW0Vd4vI1XoK7IIPr6XraZ8', assistant_id=None, attachments=[], completed_at=None, content=[TextContentBlock(text=Text(annotations=[], value='what is the best exercise to build chest and arms?'), type='text')], created_at=1733619644, incomplete_at=None, incomplete_details=None, metadata={}, object='thread.message', role='user', run_id=None, status=None, thread_id='thread_In2XqRNd885o11I07iphna25')"
            ]
          },
          "metadata": {},
          "execution_count": 57
        }
      ]
    },
    {
      "cell_type": "code",
      "source": [
        "# Run the assistant on the thread\n",
        "runVegetarianPersonalTrainer=client.beta.threads.runs.create(\n",
        "    thread_id=threadVegetarianPersonalTrainer.id,\n",
        "    assistant_id=asstVegetarianPersonalTrainer.id\n",
        ")\n",
        "runVegetarianPersonalTrainer"
      ],
      "metadata": {
        "colab": {
          "base_uri": "https://localhost:8080/"
        },
        "id": "KEPt3NZ2q_Hx",
        "outputId": "e7611d7a-b882-41cc-fa72-3c3085628ce2"
      },
      "execution_count": 71,
      "outputs": [
        {
          "output_type": "execute_result",
          "data": {
            "text/plain": [
              "Run(id='run_PeP7Z6q71sRUbx4yOH0Uog1A', assistant_id='asst_dMdfjSaLxOvznqys9C4zUUSX', cancelled_at=None, completed_at=None, created_at=1733620257, expires_at=1733620857, failed_at=None, incomplete_details=None, instructions='\\n    you are a personal trainer for vegetarians\\n', last_error=None, max_completion_tokens=None, max_prompt_tokens=None, metadata={}, model='gpt-4o', object='thread.run', parallel_tool_calls=True, required_action=None, response_format='auto', started_at=None, status='queued', thread_id='thread_In2XqRNd885o11I07iphna25', tool_choice='auto', tools=[], truncation_strategy=TruncationStrategy(type='auto', last_messages=None), usage=None, temperature=1.0, top_p=1.0, tool_resources={})"
            ]
          },
          "metadata": {},
          "execution_count": 71
        }
      ]
    },
    {
      "cell_type": "code",
      "source": [
        "# Check status of the run\n",
        "print(runVegetarianPersonalTrainer.created_at)\n",
        "while True:\n",
        "  runVegetarianPersonalTrainer=client.beta.threads.runs.retrieve(\n",
        "      thread_id=threadVegetarianPersonalTrainer.id,\n",
        "      run_id=runVegetarianPersonalTrainer.id\n",
        "  )\n",
        "  print(runVegetarianPersonalTrainer.status)\n",
        "  if runVegetarianPersonalTrainer.status==\"completed\":\n",
        "    break\n",
        "print(runVegetarianPersonalTrainer.completed_at)\n"
      ],
      "metadata": {
        "colab": {
          "base_uri": "https://localhost:8080/"
        },
        "id": "d4oZtvOUr_4f",
        "outputId": "fac1ad6b-4035-4a17-9490-9a961268cf09"
      },
      "execution_count": 72,
      "outputs": [
        {
          "output_type": "stream",
          "name": "stdout",
          "text": [
            "1733620257\n",
            "in_progress\n",
            "in_progress\n",
            "in_progress\n",
            "in_progress\n",
            "in_progress\n",
            "in_progress\n",
            "in_progress\n",
            "in_progress\n",
            "in_progress\n",
            "in_progress\n",
            "in_progress\n",
            "completed\n",
            "1733620262\n"
          ]
        }
      ]
    },
    {
      "cell_type": "code",
      "source": [
        "messages=client.beta.threads.messages.list(thread_id=threadVegetarianPersonalTrainer.id)\n",
        "for idx, message in enumerate(reversed(messages.data)):\n",
        "  print(\"\\n\" + str(idx) + \" ==> \\n\", message.content[0].text.value)\n",
        "  response=message.content[0].text.value"
      ],
      "metadata": {
        "colab": {
          "base_uri": "https://localhost:8080/"
        },
        "id": "xbnie4QitLUe",
        "outputId": "cd85b902-ff1a-4a48-d287-a9866b5deb3e"
      },
      "execution_count": 73,
      "outputs": [
        {
          "output_type": "stream",
          "name": "stdout",
          "text": [
            "\n",
            "0 ==> \n",
            " what is the best exercise to build chest and arms?\n",
            "\n",
            "1 ==> \n",
            " To build chest and arms effectively, you'll want to include a combination of exercises targeting the pectoral muscles, biceps, and triceps. Here are some of the best exercises to consider:\n",
            "\n",
            "### For Chest:\n",
            "1. **Push-Ups**: A classic bodyweight exercise that targets the pectoral muscles, triceps, and shoulders.\n",
            "   - **Variation**: Try incline or decline push-ups to target different parts of the chest.\n",
            "\n",
            "2. **Dumbbell Bench Press**: Excellent for isolating the chest muscles and allowing a greater range of motion.\n",
            "   \n",
            "3. **Chest Flyes**: Use dumbbells or a cable machine to target the chest from a different angle.\n",
            "\n",
            "4. **Dips** (Chest Variation): Focus on leaning forward slightly to emphasize the lower part of the chest.\n",
            "\n",
            "### For Arms:\n",
            "1. **Bicep Curls**: Use dumbbells or a barbell to target the bicep muscles.\n",
            "   - **Variation**: Try hammer curls for a different angle on the bicep.\n",
            "\n",
            "2. **Tricep Dips**: Can be done on a bench or parallel bars to target the triceps.\n",
            "   \n",
            "3. **Overhead Tricep Extension**: Use a dumbbell or cable to hit the triceps from a different angle.\n",
            "\n",
            "4. **Chin-Ups**: A great compound movement that emphasizes the biceps and also works the back.\n",
            "\n",
            "For all exercises, focus on proper form to prevent injury and maximize effectiveness. Incorporating both compound movements and isolation exercises will provide a well-rounded routine. Adjust reps and sets according to your fitness level and goals, typically aiming for 8-12 reps for muscle growth. Also, ensure you have an appropriate rest period between sets, generally 60-90 seconds, to allow your muscles to recover effectively.\n",
            "\n",
            "As a vegetarian, ensure you're consuming sufficient protein to support muscle growth. Consider plant-based protein sources like lentils, chickpeas, quinoa, tofu, tempeh, and high-protein grains. Staying hydrated and maintaining a balanced diet rich in various vegetables, fruits, nuts, and seeds is also essential for optimal performance and recovery.\n",
            "\n",
            "2 ==> \n",
            " what are pectoral muscles?\n",
            "\n",
            "3 ==> \n",
            " what are pectoral muscles?\n",
            "\n",
            "4 ==> \n",
            " The pectoral muscles, commonly referred to as \"pecs,\" are a group of muscles located in the chest region. They play a crucial role in the movement of the shoulder joint and are important for a variety of daily activities and athletic movements. The pectoral muscles are primarily composed of two muscles:\n",
            "\n",
            "1. **Pectoralis Major**: This is the larger and more superficial of the two chest muscles. It is a fan-shaped muscle that covers much of the upper chest. The pectoralis major has two main parts:\n",
            "   - **Clavicular Head**: The upper part of the muscle, which originates from the clavicle (collarbone).\n",
            "   - **Sternal Head**: The lower and larger part, which originates from the sternum (breastbone) and rib cage.\n",
            "\n",
            "   The pectoralis major is responsible for several actions, including:\n",
            "   - Flexing the arm at the shoulder joint.\n",
            "   - Adducting the arm, or bringing it toward the body's midline.\n",
            "   - Rotating the arm medially (inward).\n",
            "\n",
            "2. **Pectoralis Minor**: This is a smaller, triangular muscle located beneath the pectoralis major. It originates from the third to fifth ribs and inserts into the coracoid process of the scapula (shoulder blade). The pectoralis minor is involved in:\n",
            "   - Stabilizing the scapula.\n",
            "   - Drawing the scapula forward and downward.\n",
            "   - Assisting with deep inhalation by elevating the ribs when the scapula is fixed.\n",
            "\n",
            "Together, these muscles contribute to the movements of the shoulder and arm, which are integral to pushing motions as well as many upper body exercises. Strengthening the pectoral muscles can enhance athletic performance, improve posture, and increase upper body strength and aesthetics.\n",
            "\n",
            "5 ==> \n",
            " what are Pectoralis minor?\n",
            "\n",
            "6 ==> \n",
            " The pectoralis minor is a thin, triangular muscle located beneath the larger pectoralis major muscle in the chest. Despite being smaller, it plays a significant role in the function and stability of the shoulder region. Here are some key details about the pectoralis minor:\n",
            "\n",
            "### Origin and Insertion:\n",
            "- **Origin**: The pectoralis minor originates from the third, fourth, and fifth ribs near their costal cartilages.\n",
            "- **Insertion**: It inserts into the coracoid process of the scapula (shoulder blade), a small hook-like structure on the upper, front part of the scapula.\n",
            "\n",
            "### Functions:\n",
            "- **Stabilization of the Scapula**: The pectoralis minor helps anchor the scapula by drawing it anteriorly and inferiorly against the ribcage, providing stability, especially during shoulder and arm movements.\n",
            "- **Movement of the Scapula**: It is involved in protraction (moving the shoulder blade forward) and downward rotation of the scapula.\n",
            "- **Assisting with Breathing**: During deep inhalation, when the scapula is stabilized, the pectoralis minor can aid in elevating the ribs, thus contributing to the expansion of the rib cage.\n",
            "\n",
            "### Importance in Movement and Posture:\n",
            "- The pectoralis minor is vital for movements involving pushing or lifting and is often engaged in activities that require stabilization of the shoulder blade.\n",
            "- Tightness or dysfunction in the pectoralis minor can contribute to postural issues, such as rounded shoulders, and might affect shoulder mobility or contribute to shoulder pain.\n",
            "\n",
            "### Stretching and Strengthening:\n",
            "- To maintain the proper function of the pectoralis minor, it's beneficial to incorporate stretching and strengthening exercises focusing on the chest and shoulder region.\n",
            "- **Stretching**: Doorway stretches where you place your forearm against a door frame and gently lean forward can help stretch the pectoralis minor.\n",
            "- **Strengthening**: Exercises such as push-ups or chest flyes indirectly engage the pectoralis minor by stabilizing the shoulder during movement.\n",
            "\n",
            "Attention to the flexibility and strength of the pectoralis minor can contribute to overall chest and shoulder health, reducing the risk of pain or injury.\n"
          ]
        }
      ]
    },
    {
      "cell_type": "code",
      "source": [
        "message02=\"what are Pectoralis minor?\"\n",
        "message02=client.beta.threads.messages.create(\n",
        "    role=\"user\",\n",
        "    thread_id=threadVegetarianPersonalTrainer.id,\n",
        "    content=message02\n",
        ")\n",
        "message02"
      ],
      "metadata": {
        "colab": {
          "base_uri": "https://localhost:8080/"
        },
        "id": "1Os8HP5G0QHW",
        "outputId": "cb7b0c99-98a6-413f-c234-91144a045071"
      },
      "execution_count": 69,
      "outputs": [
        {
          "output_type": "execute_result",
          "data": {
            "text/plain": [
              "Message(id='msg_xygmGp3EbWR5v9R1iAqBUHrI', assistant_id=None, attachments=[], completed_at=None, content=[TextContentBlock(text=Text(annotations=[], value='what are Pectoralis minor?'), type='text')], created_at=1733620231, incomplete_at=None, incomplete_details=None, metadata={}, object='thread.message', role='user', run_id=None, status=None, thread_id='thread_In2XqRNd885o11I07iphna25')"
            ]
          },
          "metadata": {},
          "execution_count": 69
        }
      ]
    },
    {
      "cell_type": "code",
      "source": [
        "message01=\"what are pectoral muscles?\"\n",
        "message01=client.beta.threads.messages.create(\n",
        "    role=\"user\",\n",
        "    thread_id=threadVegetarianPersonalTrainer.id,\n",
        "    content=message01\n",
        ")\n",
        "message01\n"
      ],
      "metadata": {
        "colab": {
          "base_uri": "https://localhost:8080/"
        },
        "id": "iJ0a54mSy1Jq",
        "outputId": "e04d8d95-04c0-461f-ae84-bc4f5bd3980e"
      },
      "execution_count": 64,
      "outputs": [
        {
          "output_type": "execute_result",
          "data": {
            "text/plain": [
              "Message(id='msg_Oo6fX037JfRHeGxM8MPaEXhL', assistant_id=None, attachments=[], completed_at=None, content=[TextContentBlock(text=Text(annotations=[], value='what are pectoral muscles?'), type='text')], created_at=1733620070, incomplete_at=None, incomplete_details=None, metadata={}, object='thread.message', role='user', run_id=None, status=None, thread_id='thread_In2XqRNd885o11I07iphna25')"
            ]
          },
          "metadata": {},
          "execution_count": 64
        }
      ]
    },
    {
      "cell_type": "code",
      "source": [
        "#####################\n",
        "#consolidated code\n",
        "#####################\n",
        "#create assistant\n",
        "#create thread\n",
        "#create instruction(sysPrompt) message attached to assistant\n",
        "#ask question <loop start>\n",
        "#run the assistant\n",
        "#display the response\n",
        "#loop back to asking questions\n",
        "\n",
        "client=OpenAI(api_key=userdata.get('OPENAI_API_KEY'))\n",
        "assistantInstruction=\"\"\"\n",
        "    you are a personal trainer for vegetarians\n",
        "\"\"\"\n",
        "assistant=client.beta.assistants.create(\n",
        "    model=\"gpt-3.5-turbo\",\n",
        "    name=\"asstVegetarianPersonalTrainer\",\n",
        ")\n",
        "\n",
        "thread=client.beta.threads.create()\n",
        "\n",
        "message=client.beta.threads.messages.create(\n",
        "    role=\"user\",\n",
        "    thread_id=thread.id,\n",
        "    content=assistantInstruction\n",
        ")\n",
        "\n",
        "while True:\n",
        "  question=input(\"enter question: \")\n",
        "  if question==\"exit\":\n",
        "    break\n",
        "  message=client.beta.threads.messages.create(\n",
        "      role=\"user\",\n",
        "      thread_id=thread.id,\n",
        "      content=question\n",
        "  )\n",
        "  run=client.beta.threads.runs.create(\n",
        "      thread_id=thread.id,\n",
        "      assistant_id=assistant.id\n",
        "  )\n",
        "  while True:\n",
        "    run=client.beta.threads.runs.retrieve(\n",
        "        thread_id=thread.id,\n",
        "        run_id=run.id\n",
        "    )\n",
        "    if run.status==\"completed\":\n",
        "      messages=client.beta.threads.messages.list(thread_id=thread.id)\n",
        "      print(messages.data[0].content[0].text.value)\n",
        "      print(\"\\n\")\n",
        "      break\n"
      ],
      "metadata": {
        "colab": {
          "base_uri": "https://localhost:8080/"
        },
        "id": "6pK7WUvi04VX",
        "outputId": "d22c745f-5343-4075-bf35-4bf9e129fb64"
      },
      "execution_count": 80,
      "outputs": [
        {
          "name": "stdout",
          "output_type": "stream",
          "text": [
            "enter question: does tofu help?\n",
            "Yes, tofu can be a great source of protein for vegetarians. It is low in calories and high in protein, making it a good option for those looking to build and maintain muscle mass. Tofu is also a versatile ingredient that can be incorporated into a variety of dishes, making it easy to include in a vegetarian diet. Additionally, tofu contains all nine essential amino acids, making it a complete protein source.\n",
            "\n",
            "\n",
            "enter question: what is the best source of protein?\n",
            "There is no single \"best\" source of protein, as the quality and appropriateness of a protein source can vary depending on individual dietary needs and preferences. However, some popular sources of protein for vegetarians include:\n",
            "\n",
            "1. Legumes (beans, lentils, chickpeas): These are excellent sources of plant-based protein, as well as fiber and various other nutrients.\n",
            "2. Quinoa: A complete protein source that also provides fiber and essential amino acids.\n",
            "3. Nuts and seeds: Almonds, chia seeds, hemp seeds, and pumpkin seeds are great sources of protein and healthy fats.\n",
            "4. Tempeh and edamame: Soy-based products like tempeh and edamame are rich in protein and can be versatile in cooking.\n",
            "5. Greek yogurt and cottage cheese: These dairy products are high in protein and also contain probiotics for gut health.\n",
            "\n",
            "It's important for vegetarians to mix and match different protein sources to ensure they are getting all the essential amino acids and nutrients their body needs.\n",
            "\n",
            "\n",
            "enter question: exit\n"
          ]
        }
      ]
    }
  ]
}